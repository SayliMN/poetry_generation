{
 "cells": [
  {
   "cell_type": "code",
   "execution_count": null,
   "id": "8edbc79a",
   "metadata": {},
   "outputs": [],
   "source": [
    "import numpy as np\n",
    "import pandas as pd\n",
    "import matplotlib.pyplot as plt\n",
    "import sys\n",
    "import string"
   ]
  },
  {
   "cell_type": "code",
   "execution_count": null,
   "id": "ca59d890",
   "metadata": {},
   "outputs": [],
   "source": [
    "from keras.models import Model\n",
    "from keras.layers import Dense, Embedding, Input, LSTM\n",
    "from keras.preprocessing.text import Tokenizer\n",
    "from keras.utils import pad_sequences\n",
    "from keras.optimizers import Adam, SGD\n",
    "\n",
    "import os\n",
    "os.environ['TF_CPP_MIN_LOG_LEVEL'] = '2'"
   ]
  },
  {
   "cell_type": "markdown",
   "id": "50f1ff21",
   "metadata": {},
   "source": [
    "### 1. load in the data"
   ]
  },
  {
   "cell_type": "code",
   "execution_count": null,
   "id": "30cfa0b1",
   "metadata": {},
   "outputs": [],
   "source": [
    "# input_line: <sos> Two roads diverged in a yellow wood,\n",
    "# target_line: Two roads diverged in a yellow wood, <eos>"
   ]
  },
  {
   "cell_type": "code",
   "execution_count": null,
   "id": "0b3c801a",
   "metadata": {},
   "outputs": [],
   "source": [
    "input_texts = []\n",
    "target_texts = []\n",
    "\n",
    "file_path = os.getcwd() + \"/data/robert_frost.txt\"\n",
    "\n",
    "for line in open(file_path):\n",
    "    line = line.rstrip()\n",
    "#     print(line)\n",
    "    if not line:\n",
    "        continue\n",
    "    \n",
    "    input_line = '<sos> ' + line # prepending start of string in input\n",
    "    target_line = line + ' <eos>' # apending end of string in target\n",
    "    \n",
    "    input_texts.append(input_line)\n",
    "    target_texts.append(target_line)\n",
    "    \n",
    "all_lines = input_texts + target_texts"
   ]
  },
  {
   "cell_type": "code",
   "execution_count": null,
   "id": "b189bf2e",
   "metadata": {
    "scrolled": true
   },
   "outputs": [],
   "source": [
    "len(all_lines)"
   ]
  },
  {
   "cell_type": "markdown",
   "id": "70351f96",
   "metadata": {},
   "source": [
    "### 2. Convert the lines/strings into arrays of integers"
   ]
  },
  {
   "cell_type": "code",
   "execution_count": null,
   "id": "7370fa95",
   "metadata": {},
   "outputs": [],
   "source": [
    "MAX_VOCAB_SIZE = 3000"
   ]
  },
  {
   "cell_type": "code",
   "execution_count": null,
   "id": "a5018dda",
   "metadata": {},
   "outputs": [],
   "source": [
    "tokenizer = Tokenizer(num_words=MAX_VOCAB_SIZE, filters='')\n",
    "tokenizer.fit_on_texts(all_lines)\n",
    "\n",
    "input_sequences = tokenizer.texts_to_sequences(input_texts)\n",
    "target_sequences = tokenizer.texts_to_sequences(target_texts)\n",
    "# print(input_sequences)\n",
    "# print(target_sequences)"
   ]
  },
  {
   "cell_type": "markdown",
   "id": "201e7a75",
   "metadata": {},
   "source": [
    "### 3. find max sequence length in input_sequences"
   ]
  },
  {
   "cell_type": "code",
   "execution_count": null,
   "id": "c961ffca",
   "metadata": {},
   "outputs": [],
   "source": [
    "max_sequence_length_from_data = max(len(s) for s in input_sequences)\n",
    "print('Max sequence length:', max_sequence_length_from_data)"
   ]
  },
  {
   "cell_type": "code",
   "execution_count": null,
   "id": "936de480",
   "metadata": {},
   "outputs": [],
   "source": []
  }
 ],
 "metadata": {
  "kernelspec": {
   "display_name": "Python 3 (ipykernel)",
   "language": "python",
   "name": "python3"
  },
  "language_info": {
   "codemirror_mode": {
    "name": "ipython",
    "version": 3
   },
   "file_extension": ".py",
   "mimetype": "text/x-python",
   "name": "python",
   "nbconvert_exporter": "python",
   "pygments_lexer": "ipython3",
   "version": "3.9.6"
  }
 },
 "nbformat": 4,
 "nbformat_minor": 5
}
